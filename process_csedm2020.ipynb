{
 "cells": [
  {
   "cell_type": "code",
   "execution_count": 13,
   "metadata": {},
   "outputs": [],
   "source": [
    "import pandas as pd \n",
    "import numpy as np\n",
    "import split_dataset"
   ]
  },
  {
   "cell_type": "code",
   "execution_count": 3,
   "metadata": {},
   "outputs": [
    {
     "data": {
      "text/html": [
       "<div>\n",
       "<style scoped>\n",
       "    .dataframe tbody tr th:only-of-type {\n",
       "        vertical-align: middle;\n",
       "    }\n",
       "\n",
       "    .dataframe tbody tr th {\n",
       "        vertical-align: top;\n",
       "    }\n",
       "\n",
       "    .dataframe thead th {\n",
       "        text-align: right;\n",
       "    }\n",
       "</style>\n",
       "<table border=\"1\" class=\"dataframe\">\n",
       "  <thead>\n",
       "    <tr style=\"text-align: right;\">\n",
       "      <th></th>\n",
       "      <th>SubjectID</th>\n",
       "      <th>AssignmentID</th>\n",
       "      <th>ProblemID</th>\n",
       "      <th>Attempts</th>\n",
       "      <th>CorrectEventually</th>\n",
       "      <th>Label</th>\n",
       "    </tr>\n",
       "  </thead>\n",
       "  <tbody>\n",
       "    <tr>\n",
       "      <th>0</th>\n",
       "      <td>00358c94503a8d9e6869efc6e5cdb0e1c8e9eb39b1fd46...</td>\n",
       "      <td>439</td>\n",
       "      <td>1</td>\n",
       "      <td>1</td>\n",
       "      <td>True</td>\n",
       "      <td>True</td>\n",
       "    </tr>\n",
       "    <tr>\n",
       "      <th>1</th>\n",
       "      <td>00358c94503a8d9e6869efc6e5cdb0e1c8e9eb39b1fd46...</td>\n",
       "      <td>439</td>\n",
       "      <td>3</td>\n",
       "      <td>4</td>\n",
       "      <td>True</td>\n",
       "      <td>True</td>\n",
       "    </tr>\n",
       "    <tr>\n",
       "      <th>2</th>\n",
       "      <td>00358c94503a8d9e6869efc6e5cdb0e1c8e9eb39b1fd46...</td>\n",
       "      <td>439</td>\n",
       "      <td>5</td>\n",
       "      <td>3</td>\n",
       "      <td>True</td>\n",
       "      <td>True</td>\n",
       "    </tr>\n",
       "    <tr>\n",
       "      <th>3</th>\n",
       "      <td>00358c94503a8d9e6869efc6e5cdb0e1c8e9eb39b1fd46...</td>\n",
       "      <td>439</td>\n",
       "      <td>12</td>\n",
       "      <td>1</td>\n",
       "      <td>True</td>\n",
       "      <td>True</td>\n",
       "    </tr>\n",
       "    <tr>\n",
       "      <th>4</th>\n",
       "      <td>00358c94503a8d9e6869efc6e5cdb0e1c8e9eb39b1fd46...</td>\n",
       "      <td>439</td>\n",
       "      <td>13</td>\n",
       "      <td>6</td>\n",
       "      <td>True</td>\n",
       "      <td>True</td>\n",
       "    </tr>\n",
       "    <tr>\n",
       "      <th>...</th>\n",
       "      <td>...</td>\n",
       "      <td>...</td>\n",
       "      <td>...</td>\n",
       "      <td>...</td>\n",
       "      <td>...</td>\n",
       "      <td>...</td>\n",
       "    </tr>\n",
       "    <tr>\n",
       "      <th>23698</th>\n",
       "      <td>ffc3b91c3744d275e99f49e105f016732d694a76314d8c...</td>\n",
       "      <td>502</td>\n",
       "      <td>64</td>\n",
       "      <td>2</td>\n",
       "      <td>True</td>\n",
       "      <td>True</td>\n",
       "    </tr>\n",
       "    <tr>\n",
       "      <th>23699</th>\n",
       "      <td>ffc3b91c3744d275e99f49e105f016732d694a76314d8c...</td>\n",
       "      <td>502</td>\n",
       "      <td>70</td>\n",
       "      <td>9</td>\n",
       "      <td>True</td>\n",
       "      <td>False</td>\n",
       "    </tr>\n",
       "    <tr>\n",
       "      <th>23700</th>\n",
       "      <td>ffc3b91c3744d275e99f49e105f016732d694a76314d8c...</td>\n",
       "      <td>502</td>\n",
       "      <td>71</td>\n",
       "      <td>3</td>\n",
       "      <td>True</td>\n",
       "      <td>True</td>\n",
       "    </tr>\n",
       "    <tr>\n",
       "      <th>23701</th>\n",
       "      <td>ffc3b91c3744d275e99f49e105f016732d694a76314d8c...</td>\n",
       "      <td>502</td>\n",
       "      <td>112</td>\n",
       "      <td>2</td>\n",
       "      <td>True</td>\n",
       "      <td>True</td>\n",
       "    </tr>\n",
       "    <tr>\n",
       "      <th>23702</th>\n",
       "      <td>ffc3b91c3744d275e99f49e105f016732d694a76314d8c...</td>\n",
       "      <td>502</td>\n",
       "      <td>118</td>\n",
       "      <td>2</td>\n",
       "      <td>True</td>\n",
       "      <td>True</td>\n",
       "    </tr>\n",
       "  </tbody>\n",
       "</table>\n",
       "<p>23703 rows × 6 columns</p>\n",
       "</div>"
      ],
      "text/plain": [
       "                                               SubjectID  AssignmentID  \\\n",
       "0      00358c94503a8d9e6869efc6e5cdb0e1c8e9eb39b1fd46...           439   \n",
       "1      00358c94503a8d9e6869efc6e5cdb0e1c8e9eb39b1fd46...           439   \n",
       "2      00358c94503a8d9e6869efc6e5cdb0e1c8e9eb39b1fd46...           439   \n",
       "3      00358c94503a8d9e6869efc6e5cdb0e1c8e9eb39b1fd46...           439   \n",
       "4      00358c94503a8d9e6869efc6e5cdb0e1c8e9eb39b1fd46...           439   \n",
       "...                                                  ...           ...   \n",
       "23698  ffc3b91c3744d275e99f49e105f016732d694a76314d8c...           502   \n",
       "23699  ffc3b91c3744d275e99f49e105f016732d694a76314d8c...           502   \n",
       "23700  ffc3b91c3744d275e99f49e105f016732d694a76314d8c...           502   \n",
       "23701  ffc3b91c3744d275e99f49e105f016732d694a76314d8c...           502   \n",
       "23702  ffc3b91c3744d275e99f49e105f016732d694a76314d8c...           502   \n",
       "\n",
       "       ProblemID  Attempts  CorrectEventually  Label  \n",
       "0              1         1               True   True  \n",
       "1              3         4               True   True  \n",
       "2              5         3               True   True  \n",
       "3             12         1               True   True  \n",
       "4             13         6               True   True  \n",
       "...          ...       ...                ...    ...  \n",
       "23698         64         2               True   True  \n",
       "23699         70         9               True  False  \n",
       "23700         71         3               True   True  \n",
       "23701        112         2               True   True  \n",
       "23702        118         2               True   True  \n",
       "\n",
       "[23703 rows x 6 columns]"
      ]
     },
     "execution_count": 3,
     "metadata": {},
     "output_type": "execute_result"
    }
   ],
   "source": [
    "early_df = pd.read_csv(\"../../Downloads/All/early.csv\")\n",
    "late_df = pd.read_csv(\"../../Downloads/All/late.csv\")\n",
    "combined_df = pd.concat((early_df, late_df), axis=0, ignore_index=True)\n",
    "combined_df"
   ]
  },
  {
   "cell_type": "code",
   "execution_count": 9,
   "metadata": {},
   "outputs": [
    {
     "name": "stdout",
     "output_type": "stream",
     "text": [
      "Trials: 23703, Students: 494, Problems: 50\n"
     ]
    }
   ],
   "source": [
    "students = sorted(set(combined_df['SubjectID']))\n",
    "student_idx = dict(zip(students, range(len(students))))\n",
    "problems = sorted(set(combined_df['ProblemID']))\n",
    "problem_idx = dict(zip(problems, range(len(problems))))\n",
    "\n",
    "print(\"Trials: %d, Students: %d, Problems: %d\" % (combined_df.shape[0], len(students), len(problems)))"
   ]
  },
  {
   "cell_type": "code",
   "execution_count": 15,
   "metadata": {},
   "outputs": [
    {
     "name": "stdout",
     "output_type": "stream",
     "text": [
      "[0.63967611 0.15991903 0.20040486]\n",
      "[0.63967611 0.15991903 0.20040486]\n",
      "[0.63967611 0.15991903 0.20040486]\n",
      "[0.63967611 0.16194332 0.19838057]\n",
      "[0.63967611 0.15991903 0.20040486]\n"
     ]
    }
   ],
   "source": [
    "output_df = pd.DataFrame({\n",
    "    \"student\" : [student_idx[s] for s in combined_df['SubjectID']],\n",
    "    \"problem\" : [problem_idx[p] for p in combined_df['ProblemID']],\n",
    "    \"correct\" : combined_df['Label'].astype(int).tolist()\n",
    "})\n",
    "output_df.to_csv(\"tmp/csedm2020.csv\", index=False)\n",
    "full_splits = split_dataset.main(output_df)\n",
    "np.save(\"tmp/splits_csedm2020.npy\", full_splits)"
   ]
  },
  {
   "cell_type": "code",
   "execution_count": 16,
   "metadata": {},
   "outputs": [],
   "source": [
    "problem_df = pd.read_csv(\"tmp/csedm2020_embeddings.csv\")\n",
    "assert len(set(combined_df['ProblemID']) - set(problem_df['ProblemID'])) == 0"
   ]
  },
  {
   "cell_type": "code",
   "execution_count": null,
   "metadata": {},
   "outputs": [],
   "source": []
  }
 ],
 "metadata": {
  "kernelspec": {
   "display_name": "sci",
   "language": "python",
   "name": "python3"
  },
  "language_info": {
   "codemirror_mode": {
    "name": "ipython",
    "version": 3
   },
   "file_extension": ".py",
   "mimetype": "text/x-python",
   "name": "python",
   "nbconvert_exporter": "python",
   "pygments_lexer": "ipython3",
   "version": "3.9.10"
  },
  "orig_nbformat": 4
 },
 "nbformat": 4,
 "nbformat_minor": 2
}
