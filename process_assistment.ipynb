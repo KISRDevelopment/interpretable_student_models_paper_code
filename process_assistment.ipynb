{
 "cells": [
  {
   "cell_type": "markdown",
   "metadata": {},
   "source": [
    "# Process ASSISTment 2009-2010 Dataset"
   ]
  },
  {
   "cell_type": "code",
   "execution_count": 1,
   "metadata": {},
   "outputs": [],
   "source": [
    "import pandas as pd \n",
    "import numpy as np\n",
    "from collections import defaultdict\n",
    "from utils import min_seq_len_filter"
   ]
  },
  {
   "cell_type": "code",
   "execution_count": 2,
   "metadata": {},
   "outputs": [],
   "source": [
    "MIN_SEQ_LENGTH = 10"
   ]
  },
  {
   "cell_type": "code",
   "execution_count": null,
   "metadata": {},
   "outputs": [],
   "source": [
    "df = pd.read_csv(\"./raw-datasets/skill_builder_data_corrected_collapsed.csv\", engine='python')"
   ]
  },
  {
   "cell_type": "code",
   "execution_count": null,
   "metadata": {},
   "outputs": [],
   "source": [
    "df = df[~df['skill_name'].isnull() & (df['answer_type'] != 'open_response')]\n",
    "df.sort_values('order_id', inplace=True)    "
   ]
  },
  {
   "cell_type": "code",
   "execution_count": null,
   "metadata": {},
   "outputs": [],
   "source": [
    "def make_indecies(series):\n",
    "    unique_vals = sorted(set(series))\n",
    "    return dict(zip(unique_vals, range(len(unique_vals))))\n",
    "def make_mapping(keys_series, vals_series):\n",
    "    mapping = defaultdict(set)\n",
    "    for k, v in zip(keys_series, vals_series):\n",
    "        mapping[k].add(v)\n",
    "    return dict(mapping)"
   ]
  },
  {
   "cell_type": "code",
   "execution_count": null,
   "metadata": {},
   "outputs": [],
   "source": [
    "problem_id = make_indecies(df['problem_id'])\n",
    "student_id = make_indecies(df['user_id'])\n",
    "skill_id = make_indecies(df['skill_id'])\n",
    "answer_type_id = make_indecies(df['answer_type'])\n",
    "sid_to_sname = make_mapping(df['skill_id'], df['skill_name'].str.strip())"
   ]
  },
  {
   "cell_type": "code",
   "execution_count": null,
   "metadata": {},
   "outputs": [],
   "source": [
    "rows = []\n",
    "for r in df.itertuples():\n",
    "    rows.append({\n",
    "        \"student\" : student_id[r.user_id],\n",
    "        \"skill\" : skill_id[r.skill_id],\n",
    "        \"correct\" : r.correct,\n",
    "        \"problem\" : problem_id[r.problem_id],\n",
    "        \"answer_type\" : answer_type_id[r.answer_type],\n",
    "        \"response_time_ms\" : r.ms_first_response,\n",
    "        \"skill_name\" : r.skill_name\n",
    "    })\n",
    "output_df = pd.DataFrame(rows)\n",
    "output_df = min_seq_len_filter(output_df, MIN_SEQ_LENGTH)"
   ]
  },
  {
   "cell_type": "code",
   "execution_count": null,
   "metadata": {},
   "outputs": [],
   "source": [
    "print(\"Trials: %d\" % output_df.shape[0])\n",
    "print(\"Students: %d\" % len(set(output_df['student'])))\n",
    "print(\"Skills: %d\" % len(set(output_df['skill'])))\n",
    "print(\"Problems: %d\" % len(set(output_df['problem'])))\n",
    "df.to_csv(\"datasets/assistment.csv\", index=False)"
   ]
  },
  {
   "cell_type": "code",
   "execution_count": null,
   "metadata": {},
   "outputs": [],
   "source": []
  }
 ],
 "metadata": {
  "kernelspec": {
   "display_name": "Python 3 (ipykernel)",
   "language": "python",
   "name": "python3"
  },
  "language_info": {
   "codemirror_mode": {
    "name": "ipython",
    "version": 3
   },
   "file_extension": ".py",
   "mimetype": "text/x-python",
   "name": "python",
   "nbconvert_exporter": "python",
   "pygments_lexer": "ipython3",
   "version": "3.8.10"
  }
 },
 "nbformat": 4,
 "nbformat_minor": 4
}
