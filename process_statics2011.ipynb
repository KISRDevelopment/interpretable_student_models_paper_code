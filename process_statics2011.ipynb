{
 "cells": [
  {
   "cell_type": "markdown",
   "metadata": {},
   "source": [
    "# Process Statics 2011 Dataset"
   ]
  },
  {
   "cell_type": "code",
   "execution_count": 1,
   "metadata": {},
   "outputs": [],
   "source": [
    "import numpy as np\n",
    "import pandas as pd\n",
    "from collections import defaultdict\n",
    "from dateutil import parser\n",
    "from utils import min_seq_len_filter"
   ]
  },
  {
   "cell_type": "code",
   "execution_count": 2,
   "metadata": {},
   "outputs": [],
   "source": [
    "MIN_SEQ_LENGTH = 10"
   ]
  },
  {
   "cell_type": "code",
   "execution_count": 3,
   "metadata": {},
   "outputs": [],
   "source": [
    "path = \"./raw-datasets/ds507_student_step_All_Data_1664_2017_0227_035544.txt\"\n",
    "kc_col = \"KC (F2011)\"\n",
    "df = pd.read_csv(path, sep='\\t')\n",
    "ix = ~df[kc_col].isnull()\n",
    "df = df[ix]    "
   ]
  },
  {
   "cell_type": "code",
   "execution_count": 4,
   "metadata": {},
   "outputs": [],
   "source": [
    "df['corr_dur_sec'] = df['Correct Step Duration (sec)'].replace('.', 0).astype(float)\n",
    "df['error_dur_sec'] = df['Error Step Duration (sec)'].replace('.', 0).astype(float)\n",
    "df['problem'] = df['Problem Hierarchy'].astype(str) + '>>' + df['Problem Name'].astype(str) + '>>' + df['Step Name'].astype(str)"
   ]
  },
  {
   "cell_type": "code",
   "execution_count": 5,
   "metadata": {},
   "outputs": [],
   "source": [
    "def make_indecies(series):\n",
    "    unique_vals = sorted(set(series))\n",
    "    return dict(zip(unique_vals, range(len(unique_vals))))\n",
    "def make_mapping(keys_series, vals_series):\n",
    "    mapping = defaultdict(set)\n",
    "    for k, v in zip(keys_series, vals_series):\n",
    "        mapping[k].add(v)\n",
    "    return dict(mapping)"
   ]
  },
  {
   "cell_type": "code",
   "execution_count": 6,
   "metadata": {},
   "outputs": [],
   "source": [
    "problem_id = make_indecies(df['problem'])\n",
    "student_id = make_indecies(df['Anon Student Id'])\n",
    "skill_id = make_indecies(df[kc_col])\n",
    "df['end_time'] = pd.to_datetime(df['Step End Time'])\n",
    "df['student'] = df['Anon Student Id']\n",
    "df['correct'] = (df['First Attempt'] == 'correct').astype(int)\n",
    "df['response_time_ms'] = (df['correct'] * df['corr_dur_sec'] + (1-df['correct']) * df['error_dur_sec']) * 1000\n",
    "df['skill'] = df[kc_col]"
   ]
  },
  {
   "cell_type": "code",
   "execution_count": 7,
   "metadata": {},
   "outputs": [],
   "source": [
    "rows = []\n",
    "for r in df.itertuples():\n",
    "    rows.append({\n",
    "        \"student\" : student_id[r.student],\n",
    "        \"skill\" : skill_id[r.skill],\n",
    "        \"correct\" : r.correct,\n",
    "        \"end_time\" : r.end_time,\n",
    "        \"problem\" : problem_id[ r.problem ],\n",
    "        \"response_time_ms\" : r.response_time_ms,\n",
    "        \"skill_name\" : r.skill\n",
    "    })\n",
    "output_df = pd.DataFrame(rows)\n",
    "output_df = min_seq_len_filter(output_df, MIN_SEQ_LENGTH)"
   ]
  },
  {
   "cell_type": "code",
   "execution_count": 9,
   "metadata": {},
   "outputs": [
    {
     "name": "stdout",
     "output_type": "stream",
     "text": [
      "Trials: 113984\n",
      "Students: 330\n",
      "Skills: 97\n",
      "Problems: 633\n",
      "Time range: 2011-08-22 13:36:15 to 2011-12-08 21:49:21\n"
     ]
    }
   ],
   "source": [
    "print(\"Trials: %d\" % output_df.shape[0])\n",
    "print(\"Students: %d\" % len(set(output_df['student'])))\n",
    "print(\"Skills: %d\" % len(set(output_df['skill'])))\n",
    "print(\"Problems: %d\" % len(set(output_df['problem'])))\n",
    "date = pd.to_datetime(output_df['end_time'])\n",
    "min_time = np.min(date)\n",
    "max_time = np.max(date)\n",
    "print(\"Time range: %s to %s\" % (min_time, max_time))"
   ]
  },
  {
   "cell_type": "code",
   "execution_count": 10,
   "metadata": {},
   "outputs": [],
   "source": [
    "output_df.to_csv(\"datasets/statics2011.csv\", index=False)"
   ]
  },
  {
   "cell_type": "code",
   "execution_count": 12,
   "metadata": {},
   "outputs": [
    {
     "data": {
      "text/plain": [
       "97"
      ]
     },
     "execution_count": 12,
     "metadata": {},
     "output_type": "execute_result"
    }
   ],
   "source": []
  },
  {
   "cell_type": "code",
   "execution_count": null,
   "metadata": {},
   "outputs": [],
   "source": []
  }
 ],
 "metadata": {
  "kernelspec": {
   "display_name": "Python 3 (ipykernel)",
   "language": "python",
   "name": "python3"
  },
  "language_info": {
   "codemirror_mode": {
    "name": "ipython",
    "version": 3
   },
   "file_extension": ".py",
   "mimetype": "text/x-python",
   "name": "python",
   "nbconvert_exporter": "python",
   "pygments_lexer": "ipython3",
   "version": "3.8.10"
  }
 },
 "nbformat": 4,
 "nbformat_minor": 4
}
