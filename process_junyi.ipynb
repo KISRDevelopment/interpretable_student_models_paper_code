{
 "cells": [
  {
   "cell_type": "markdown",
   "metadata": {},
   "source": [
    "# Process Junyi Dataset"
   ]
  },
  {
   "cell_type": "code",
   "execution_count": 88,
   "metadata": {},
   "outputs": [],
   "source": [
    "import numpy as np\n",
    "import pandas as pd\n",
    "from collections import defaultdict\n",
    "from utils import min_seq_len_filter"
   ]
  },
  {
   "cell_type": "code",
   "execution_count": 4,
   "metadata": {},
   "outputs": [],
   "source": [
    "MIN_SEQ_LENGTH = 10\n",
    "\n",
    "problem_log_path = \"raw-datasets/junyi_ProblemLog_original.csv\"\n",
    "exercise_table_path = \"raw-datasets/junyi_Exercise_table.csv\""
   ]
  },
  {
   "cell_type": "code",
   "execution_count": 51,
   "metadata": {},
   "outputs": [
    {
     "name": "stdout",
     "output_type": "stream",
     "text": [
      "# exercises: 722\n",
      "# problem types: 1150\n",
      "# students: 246952\n",
      "# trials: 2279215\n"
     ]
    }
   ],
   "source": [
    "df = pd.read_csv(problem_log_path)\n",
    "\n",
    "# limit to first attempts on non-review questions\n",
    "ix = (df['problem_number'] == 1) & (df['review_mode'] == False)\n",
    "\n",
    "df = df[ix]\n",
    "\n",
    "print(\"# exercises: %d\" % len(set(df['exercise'])))\n",
    "print(\"# problem types: %d\" % len(set(df['problem_type'])))\n",
    "print(\"# students: %d\" % len(set(df['user_id'])))\n",
    "print(\"# trials: %d\" % df.shape[0])"
   ]
  },
  {
   "cell_type": "code",
   "execution_count": 71,
   "metadata": {},
   "outputs": [],
   "source": [
    "exercise_df = pd.read_csv(exercise_table_path)\n",
    "exercise_df = exercise_df.drop_duplicates(['name']).set_index('name')"
   ]
  },
  {
   "cell_type": "code",
   "execution_count": 86,
   "metadata": {},
   "outputs": [],
   "source": [
    "def make_indecies(series):\n",
    "    unique_vals = sorted(set(series))\n",
    "    return dict(zip(unique_vals, range(len(unique_vals))))\n",
    "def make_mapping(keys_series, vals_series):\n",
    "    mapping = defaultdict(set)\n",
    "    for k, v in zip(keys_series, vals_series):\n",
    "        mapping[k].add(v)\n",
    "    return dict(mapping)\n",
    "\n",
    "df['student'] = np.array(df['user_id'])\n",
    "df['problem'] = np.array(df['exercise'] + '--' + df['problem_type'])\n",
    "df['skill'] = np.array(exercise_df.loc[df['exercise'], 'topic'].astype(str))\n",
    "df['end_time'] = pd.to_datetime(df['time_done'], unit='us')\n",
    "df['response_time_ms'] = np.maximum(0, df['time_taken']) * 1000\n",
    "\n",
    "problem_id = make_indecies(df['problem'])\n",
    "student_id = make_indecies(df['student'])\n",
    "skill_id = make_indecies(df['skill'])"
   ]
  },
  {
   "cell_type": "code",
   "execution_count": 89,
   "metadata": {},
   "outputs": [],
   "source": [
    "rows = []\n",
    "for r in df.itertuples():\n",
    "    rows.append({\n",
    "        \"student\" : student_id[r.student],\n",
    "        \"skill\" : skill_id[r.skill],\n",
    "        \"correct\" : int(r.correct),\n",
    "        \"end_time\" : r.end_time,\n",
    "        \"problem\" : problem_id[ r.problem ],\n",
    "        \"response_time_ms\" : r.response_time_ms,\n",
    "        \"skill_name\" : r.skill\n",
    "    })\n",
    "output_df = pd.DataFrame(rows)\n",
    "output_df = min_seq_len_filter(output_df, MIN_SEQ_LENGTH)"
   ]
  },
  {
   "cell_type": "code",
   "execution_count": 90,
   "metadata": {},
   "outputs": [
    {
     "name": "stdout",
     "output_type": "stream",
     "text": [
      "Trials: 1773518\n",
      "Students: 55453\n",
      "Skills: 40\n",
      "Problems: 2526\n",
      "Time range: 2012-10-12 06:23:25.827490 to 2015-01-11 18:13:19.900800\n"
     ]
    }
   ],
   "source": [
    "print(\"Trials: %d\" % output_df.shape[0])\n",
    "print(\"Students: %d\" % len(set(output_df['student'])))\n",
    "print(\"Skills: %d\" % len(set(output_df['skill'])))\n",
    "print(\"Problems: %d\" % len(set(output_df['problem'])))\n",
    "date = pd.to_datetime(output_df['end_time'])\n",
    "min_time = np.min(date)\n",
    "max_time = np.max(date)\n",
    "print(\"Time range: %s to %s\" % (min_time, max_time))"
   ]
  },
  {
   "cell_type": "code",
   "execution_count": 91,
   "metadata": {},
   "outputs": [],
   "source": [
    "output_df.to_csv(\"datasets/junyi.csv\", index=False)"
   ]
  },
  {
   "cell_type": "code",
   "execution_count": null,
   "metadata": {},
   "outputs": [],
   "source": []
  }
 ],
 "metadata": {
  "kernelspec": {
   "display_name": "Python 3 (ipykernel)",
   "language": "python",
   "name": "python3"
  },
  "language_info": {
   "codemirror_mode": {
    "name": "ipython",
    "version": 3
   },
   "file_extension": ".py",
   "mimetype": "text/x-python",
   "name": "python",
   "nbconvert_exporter": "python",
   "pygments_lexer": "ipython3",
   "version": "3.8.10"
  }
 },
 "nbformat": 4,
 "nbformat_minor": 4
}
